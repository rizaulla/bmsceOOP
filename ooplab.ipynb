{
 "cells": [
  {
   "cell_type": "code",
   "execution_count": 10,
   "id": "22e441f4-0143-4f2e-896b-9c50e8f78447",
   "metadata": {},
   "outputs": [
    {
     "name": "stdout",
     "output_type": "stream",
     "text": [
      "True\n",
      "False\n",
      "True\n",
      "True\n",
      "False\n",
      "True\n"
     ]
    }
   ],
   "source": [
    "#1a\n",
    "class Student:\n",
    "    pass\n",
    "class Marks(Student):\n",
    "    pass \n",
    "\n",
    "   \n",
    "student1 = Student()\n",
    "student2 = Student()\n",
    "marks1 = Marks() \n",
    "marks2 = Marks()\n",
    "\n",
    "print(isinstance(student1, Student)) # True \n",
    "print(isinstance(student2, Marks)) # False \n",
    "print(isinstance(marks1, Marks)) # True \n",
    "print(isinstance(marks2, Student)) # False\n",
    "\n",
    "print(issubclass(Student,Marks)) \n",
    "\n",
    "print(issubclass(Marks, Student\n",
    "                ))\n"
   ]
  },
  {
   "cell_type": "code",
   "execution_count": 18,
   "id": "db3aade6-3096-41e2-ae0a-7f08053a1d4c",
   "metadata": {},
   "outputs": [
    {
     "name": "stdout",
     "output_type": "stream",
     "text": [
      "Result of adding C1 and C2: 3 + 7 i\n"
     ]
    }
   ],
   "source": [
    "#1b\n",
    "class Complex: \n",
    "    def __init__(self, real_part, img_part): \n",
    "        self.real_part = real_part \n",
    "        self.img_part = img_part\n",
    "        \n",
    "    def __add__(self, other): \n",
    "        return Complex(self.real_part + other.real_part,self.img_part + other.img_part) # Creating objects C1, C2, and C3 \n",
    "        \n",
    "C1 = Complex(2, 3)\n",
    "C2 = Complex(1, 4)\n",
    "C3 = C1 + C2 # Printing the result of adding C1 and C2\n",
    "print(\"Result of adding C1 and C2:\",C3.real_part ,\"+\", C3.img_part,\"i\")"
   ]
  },
  {
   "cell_type": "raw",
   "id": "3ec308e1-d117-4692-af8c-63f7968fe25f",
   "metadata": {},
   "source": []
  },
  {
   "cell_type": "code",
   "execution_count": 20,
   "id": "026f1b99-f341-41cb-9953-95e1e8e647a3",
   "metadata": {},
   "outputs": [
    {
     "name": "stdout",
     "output_type": "stream",
     "text": [
      "1\n",
      "2\n",
      "3\n",
      "4\n",
      "4\n",
      "5\n",
      "6\n",
      "7\n",
      "8\n",
      "9\n",
      "10\n"
     ]
    }
   ],
   "source": [
    "#2a\n",
    "class song:\n",
    "    def __init__(self,lyrics):\n",
    "        self.lyrics=lyrics\n",
    "    def sing_me_a_song(self):\n",
    "        for i in range(len(self.lyrics)):\n",
    "            print(self.lyrics[i])\n",
    "\n",
    "l=[1,2,3,4,4,5,6,7,8,9,10]\n",
    "s=song(l)\n",
    "s.sing_me_a_song()\n"
   ]
  },
  {
   "cell_type": "code",
   "execution_count": 3,
   "id": "ee2555e2-ccf1-4c35-86bd-4918a07039c3",
   "metadata": {},
   "outputs": [
    {
     "data": {
      "text/plain": [
       "'var'"
      ]
     },
     "execution_count": 3,
     "metadata": {},
     "output_type": "execute_result"
    }
   ],
   "source": [
    "#2b\n",
    "class dog:\n",
    "    def __init__(self,name,size,breed='Uknown',Dob=\"uknown\"):\n",
    "        self.name = name.title() \n",
    "        self.size = size \n",
    "        self.breed = breed \n",
    "        self.Dob = Dob\n",
    "    def bark(self):\n",
    "        print(\"woOF\")\n",
    "    def getname(self):\n",
    "        return self.name \n",
    "    def set_name(self,newname):\n",
    "        self.name=newname\n",
    "\n",
    "    def Dogage(self):\n",
    "        if self.Dob=='uknown':\n",
    "            print(\"Dog age cannot be clculated\")\n",
    "        else:\n",
    "            birth=int(self.Dob[:-4])\n",
    "            current=2024\n",
    "            age=current-birth\n",
    "            dog_age=age*7\n",
    "            print(dog_age)\n",
    "\n",
    "d1=dog(\"Appu\", \"Medium\", Dob=\"2018-05-15\") \n",
    "d1.getname()\n",
    "d1.set_name(\"var\")\n",
    "d1.getname()\n",
    "            \n",
    "        "
   ]
  },
  {
   "cell_type": "code",
   "execution_count": 43,
   "id": "df0ca8ef-c9b4-44b0-a298-641520c667f7",
   "metadata": {},
   "outputs": [
    {
     "name": "stdout",
     "output_type": "stream",
     "text": [
      "John is working.\n",
      "Name: John, Salary: 50000\n"
     ]
    }
   ],
   "source": [
    "#3a\n",
    "class Employee:\n",
    "    def __init__(self, name, salary):\n",
    "        self.name = name\n",
    "        self.__salary = salary # Private variable\n",
    "    def work(self):\n",
    "        return f\"{self.name} is working.\"\n",
    "    def show(self):\n",
    "        return f\"Name: {self.name}, Salary: {self.__salary}\"\n",
    "# Example usage:\n",
    "emp1 = Employee(\"John\", 50000)\n",
    "print(emp1.work())\n",
    "print(emp1.show())\n",
    "\n"
   ]
  },
  {
   "cell_type": "code",
   "execution_count": 77,
   "id": "80f2f73a-cac5-421a-adb0-2736726cc3fc",
   "metadata": {},
   "outputs": [
    {
     "name": "stdout",
     "output_type": "stream",
     "text": [
      "Initial balance: 0\n",
      "Balance after deposit: 1000\n",
      "Balance after withdrawal: 500\n",
      "Balance after trying to modify directly: 500\n"
     ]
    }
   ],
   "source": [
    "#3b\n",
    "class CreditCard:\n",
    "    def __init__(self, limit):\n",
    "        self.__limit = limit\n",
    "        self.__balance = 0\n",
    "\n",
    "    def get_balance(self):\n",
    "        return self.__balance\n",
    "\n",
    "    def withdraw(self, amount):\n",
    "        if amount <= 0:\n",
    "            print(\"Invalid amount for withdrawal.\")\n",
    "            return  # Exit the method if the amount is invalid\n",
    "        if amount > self.__balance:\n",
    "            print(\"Insufficient balance.\")\n",
    "            return  # Exit the method if there are insufficient funds\n",
    "        self.__balance -= amount  # Correctly update the balance\n",
    "\n",
    "    def deposit(self, amount):\n",
    "        if amount <= 0:\n",
    "            print(\"Invalid amount for deposit.\")\n",
    "            return  # Exit the method if the amount is invalid\n",
    "        self.__balance += amount  # Correctly update the balance\n",
    "\n",
    "# Testing the CreditCard class\n",
    "credit_card = CreditCard(5000)\n",
    "print(\"Initial balance:\", credit_card.get_balance())\n",
    "credit_card.deposit(1000)\n",
    "print(\"Balance after deposit:\", credit_card.get_balance())\n",
    "credit_card.withdraw(500)\n",
    "print(\"Balance after withdrawal:\", credit_card.get_balance())\n",
    "\n",
    "# Trying to modify balance directly (will not work)\n",
    "# credit_card.__balance = 10000 # This will not change the balance\n",
    "print(\"Balance after trying to modify directly:\", credit_card.get_balance())"
   ]
  },
  {
   "cell_type": "code",
   "execution_count": 84,
   "id": "66066e36-6d6e-4b9d-ac60-c16db4bb94b4",
   "metadata": {},
   "outputs": [
    {
     "name": "stdout",
     "output_type": "stream",
     "text": [
      "mg's milage is very low\n"
     ]
    }
   ],
   "source": [
    "#4\n",
    "from abc import ABC ,abstractmethod\n",
    "class car(ABC):\n",
    "    @abstractmethod\n",
    "    def milage(self):\n",
    "        pass\n",
    "\n",
    "class mg(car):\n",
    "    def milage(self):\n",
    "        print(\"mg's milage is very low\")\n",
    "\n",
    "class toyota(car):\n",
    "    def milage(self):\n",
    "        print(\"toyota's milage is  low\")\n",
    "class suzuki(car):\n",
    "    def milage(self):\n",
    "        print(\"suzuki's milage is very high\")\n",
    "\n",
    "\n",
    "        \n",
    "\n",
    "c1=mg()\n",
    "c1.milage()\n"
   ]
  },
  {
   "cell_type": "code",
   "execution_count": 6,
   "id": "64891fe8-5eb1-40f0-a777-bca21c38d99d",
   "metadata": {},
   "outputs": [
    {
     "data": {
      "text/plain": [
       "'Employee ID: 111, employee_name: Riza, Age: 18, Company: Wipro, Location: Baglore'"
      ]
     },
     "execution_count": 6,
     "metadata": {},
     "output_type": "execute_result"
    }
   ],
   "source": [
    "#5a\n",
    "class Person:\n",
    "    def __init__(self, name, age):\n",
    "        self.name = name\n",
    "        self.age = age\n",
    "    def display_person(self):\n",
    "        return f\"employee_name: {self.name}, Age: {self.age}\"\n",
    "class Company:\n",
    "    def __init__(self, company_name, location):\n",
    "        self.company_name = company_name\n",
    "        self.location = location\n",
    "    def display_company(self):\n",
    "        return f\"Company: {self.company_name}, Location: {self.location}\"\n",
    "class Employee(Person, Company):\n",
    "    def __init__(self, name, age, company_name, location, emp_id):\n",
    "        Person.__init__(self, name, age)\n",
    "        Company.__init__(self, company_name, location)\n",
    "        self.emp_id = emp_id\n",
    "    def display_employee_info(self):\n",
    "        return f\"Employee ID: {self.emp_id}, {self.display_person()}, {self.display_company()}\"\n",
    "\n",
    "e=Employee(\"Riza\",18,\"Wipro\",\"Baglore\",111)\n",
    "#print(e.display_person())\n",
    "#e.display_company()\n",
    "e.display_employee_info()"
   ]
  },
  {
   "cell_type": "code",
   "execution_count": 17,
   "id": "d31d953a-db23-4e19-b365-0e8650b1da5a",
   "metadata": {},
   "outputs": [
    {
     "name": "stdout",
     "output_type": "stream",
     "text": [
      "lambo launched car in the year 1992 it doe very good sounding cars its top sppeed is221kmph\n"
     ]
    }
   ],
   "source": [
    "#5b\n",
    "class vehicle:\n",
    "    def __init__(self,make,model):\n",
    "        self.make=make\n",
    "        self.model=model\n",
    "    def displayinfo(self):\n",
    "        print(self.make ,self.model)\n",
    "\n",
    "class car(vehicle):\n",
    "    def __init__(self,make,model,year):\n",
    "        super().__init__(make,model)\n",
    "        self.year=year\n",
    "    def year(self):\n",
    "        print(f\"{self.make} launched car in the year {self.year}\")\n",
    "        \n",
    "class sports_car(car):\n",
    "    def __init__(self,make,model,year,speed):\n",
    "        super().__init__(make,model,year)\n",
    "        self.speed=speed\n",
    "    def sound(self):\n",
    "        print(f\"{self.make} launched car in the year {self.year} it doe very good sounding cars its top sppeed is{self.speed}\")   \n",
    "\n",
    "s1=sports_car(\"lambo\",\"gen1\", 1992,\"221kmph\")\n",
    "s1.sound()"
   ]
  },
  {
   "cell_type": "code",
   "execution_count": 8,
   "id": "f958b427-bc6d-45fd-8e17-3be33a3fc72c",
   "metadata": {},
   "outputs": [
    {
     "name": "stdout",
     "output_type": "stream",
     "text": [
      "Father's age: 26\n",
      "Son's age: 25\n"
     ]
    }
   ],
   "source": [
    "#6a\n",
    "class WrongAge(Exception):\n",
    "    pass\n",
    "class AgeInvalid(Exception):\n",
    "    pass\n",
    "class Father:\n",
    "    def __init__(self, age):\n",
    "        if age < 0:\n",
    "            raise WrongAge(\"Age cannot be negative.\")\n",
    "        self.age = age\n",
    "class Son(Father):\n",
    "    def __init__(self, father_age, son_age):\n",
    "        super().__init__(father_age)\n",
    "        if son_age >= father_age:\n",
    "            raise AgeInvalid(\"Son's age cannot be greater than or equal to father's age.\")\n",
    "        self.son_age = son_age\n",
    "# Example usage:\n",
    "try:\n",
    "    father = Father(26)\n",
    "    son = Son(26, 25) # This will raise an AgeInvalid exception\n",
    "except WrongAge as e:\n",
    "    print(\"Error:\", e)\n",
    "except AgeInvalid as e:\n",
    "    print(\"Error:\", e)\n",
    "else:\n",
    "    print(\"Father's age:\", father.age)\n",
    "    print(\"Son's age:\", son.son_age)"
   ]
  },
  {
   "cell_type": "code",
   "execution_count": 30,
   "id": "413f48b6-b746-4e60-9791-bb214ab68f8b",
   "metadata": {},
   "outputs": [
    {
     "name": "stdin",
     "output_type": "stream",
     "text": [
      "Enter a formula (number operator number), or 'quit' to exit:  1 + 5\n"
     ]
    },
    {
     "name": "stdout",
     "output_type": "stream",
     "text": [
      "Result: 6.0\n"
     ]
    },
    {
     "name": "stdin",
     "output_type": "stream",
     "text": [
      "Enter a formula (number operator number), or 'quit' to exit:  1-5\n"
     ]
    },
    {
     "name": "stdout",
     "output_type": "stream",
     "text": [
      "Error: Invalid formula: Input should consist of 3 elements separated by white space.\n"
     ]
    },
    {
     "name": "stdin",
     "output_type": "stream",
     "text": [
      "Enter a formula (number operator number), or 'quit' to exit:  1 - 5\n"
     ]
    },
    {
     "name": "stdout",
     "output_type": "stream",
     "text": [
      "Result: -4.0\n"
     ]
    },
    {
     "name": "stdin",
     "output_type": "stream",
     "text": [
      "Enter a formula (number operator number), or 'quit' to exit:  1 * 5\n"
     ]
    },
    {
     "name": "stdout",
     "output_type": "stream",
     "text": [
      "Error: Invalid operator: Operator should be '+' or '-'.\n"
     ]
    },
    {
     "name": "stdin",
     "output_type": "stream",
     "text": [
      "Enter a formula (number operator number), or 'quit' to exit:  quit\n"
     ]
    }
   ],
   "source": [
    "#6b\n",
    "class FormulaError(Exception):\n",
    "    pass\n",
    "\n",
    "def calculate(formula):\n",
    "    try:\n",
    "        elements = formula.split()\n",
    "        if len(elements) != 3:\n",
    "            raise FormulaError(\"Invalid formula: Input should consist of 3 elements separated by white space.\")\n",
    "        num1 = float(elements[0])\n",
    "        operator = elements[1]\n",
    "        num2 = float(elements[2])\n",
    "        if operator not in ['+', '-']:\n",
    "            raise FormulaError(\"Invalid operator: Operator should be '+' or '-'.\")\n",
    "        \n",
    "        if operator == '+':\n",
    "            result = num1 + num2\n",
    "        else:\n",
    "            result = num1 - num2\n",
    "        \n",
    "        print(\"Result:\", result)\n",
    "\n",
    "    except ValueError:\n",
    "        raise FormulaError(\"Invalid input: Both numbers should be valid.\")\n",
    "\n",
    "while True:\n",
    "    try:\n",
    "        formula = input(\"Enter a formula (number operator number), or 'quit' to exit: \")\n",
    "        if formula.lower() == 'quit':\n",
    "            \n",
    "            break\n",
    "        calculate(formula)\n",
    "    except FormulaError as e:\n",
    "        print(\"Error:\", e)"
   ]
  },
  {
   "cell_type": "code",
   "execution_count": 7,
   "id": "b0dfe247-a153-4194-b74f-a7c0c088ca48",
   "metadata": {},
   "outputs": [
    {
     "name": "stdout",
     "output_type": "stream",
     "text": [
      "lambo gen is driving on the road.\n",
      "__ __ is sailing on the water.\n",
      "++ ++ is flying in the sky.\n"
     ]
    }
   ],
   "source": [
    "#7\n",
    "class Car:\n",
    "    def __init__(self, brand, model):\n",
    "        self.brand = brand\n",
    "        self.model = model\n",
    "    def move(self):\n",
    "        print(f\"{self.brand} {self.model} is driving on the road.\")\n",
    "class Boat:\n",
    "    def __init__(self, brand, model):\n",
    "        self.brand = brand\n",
    "        self.model = model\n",
    "    def move(self):\n",
    "        print(f\"{self.brand} {self.model} is sailing on the water.\")\n",
    "class Plane:\n",
    "    def __init__(self, brand, model):\n",
    "        self.brand = brand\n",
    "        self.model = model\n",
    "    def move(self):\n",
    "        print(f\"{self.brand} {self.model} is flying in the sky.\")\n",
    "\n",
    "c=Car(\"lambo\",\"gen\")\n",
    "b=Boat(\"__\",\"__\")\n",
    "p=Plane(\"++\",\"++\")\n",
    "\n",
    "ve=[c,b,p]\n",
    "for i in ve:\n",
    "    i.move()"
   ]
  },
  {
   "cell_type": "code",
   "execution_count": 4,
   "id": "2e597a55-d93e-4ac2-a7aa-ec4dcb58abf3",
   "metadata": {},
   "outputs": [
    {
     "name": "stdout",
     "output_type": "stream",
     "text": [
      "The fish is eating.\n",
      "The cat is eating.\n",
      "The cat is playing.\n",
      "Fish can't walk.\n",
      "The spider is eating.\n",
      "Cat is a pet.\n",
      "Cat is an animal.\n",
      "Fish can't walk.\n",
      "The fish is eating.\n",
      "This animal walks on 4 legs.\n",
      "The cat is eating.\n",
      "This animal walks on 8 legs.\n",
      "The spider is eating.\n"
     ]
    }
   ],
   "source": [
    "#8\n",
    "from abc import ABC, abstractmethod\n",
    "\n",
    "class Animal(ABC):\n",
    "    def __init__(self, legs):\n",
    "        self._legs = legs\n",
    "\n",
    "    @abstractmethod\n",
    "    def eat(self):\n",
    "        pass\n",
    "\n",
    "    def walk(self):\n",
    "        print(f\"This animal walks on {self._legs} legs.\")\n",
    "\n",
    "class Spider(Animal):\n",
    "    def __init__(self):\n",
    "        super().__init__(8)\n",
    "\n",
    "    def eat(self):\n",
    "        print(\"The spider is eating.\")\n",
    "\n",
    "class Pet(ABC):\n",
    "    @abstractmethod\n",
    "    def play(self):\n",
    "        pass\n",
    "\n",
    "class Cat(Animal, Pet):\n",
    "    def __init__(self, name=\"\"):\n",
    "        super().__init__(4)\n",
    "        self._name = name\n",
    "\n",
    "    def eat(self):\n",
    "        print(\"The cat is eating.\")\n",
    "\n",
    "    def play(self):\n",
    "        print(\"The cat is playing.\")\n",
    "\n",
    "class Fish(Animal):\n",
    "    def __init__(self):\n",
    "        super().__init__(0)\n",
    "\n",
    "    def eat(self):\n",
    "        print(\"The fish is eating.\")\n",
    "\n",
    "    def walk(self):\n",
    "        print(\"Fish can't walk.\")\n",
    "\n",
    "class Main:\n",
    "    def __init__(self):\n",
    "        d = Fish()\n",
    "        c = Cat(\"Fluffy\")\n",
    "        e = Spider()\n",
    "\n",
    "        # Demonstrating the functionality\n",
    "        d.eat()\n",
    "        c.eat()\n",
    "        c.play()\n",
    "        d.walk()\n",
    "        e.eat()\n",
    "\n",
    "        # Checking instances\n",
    "        if isinstance(c, Pet):\n",
    "            print(\"Cat is a pet.\")\n",
    "        if isinstance(c, Animal):\n",
    "            print(\"Cat is an animal.\")\n",
    "\n",
    "        # List of animals\n",
    "        animals = [d, c, e]\n",
    "        for animal in animals:\n",
    "            animal.walk()\n",
    "            animal.eat()\n",
    "\n",
    "# Running the main class\n",
    "if __name__ == \"__main__\":\n",
    "    main_instance = Main()"
   ]
  },
  {
   "cell_type": "code",
   "execution_count": 12,
   "id": "a8309c84-c248-4c6e-82c7-6aa1355b1fb2",
   "metadata": {},
   "outputs": [
    {
     "name": "stdout",
     "output_type": "stream",
     "text": [
      "Stopping threads...\n",
      "Square of 80: 6400\n",
      "Cube of 11: 1331\n",
      "Cube of 49: 117649\n",
      "Square of 86: 7396\n",
      "Square of 44: 1936\n"
     ]
    },
    {
     "ename": "KeyboardInterrupt",
     "evalue": "",
     "output_type": "error",
     "traceback": [
      "\u001b[1;31m---------------------------------------------------------------------------\u001b[0m",
      "\u001b[1;31mKeyboardInterrupt\u001b[0m                         Traceback (most recent call last)",
      "Cell \u001b[1;32mIn[12], line 45\u001b[0m\n\u001b[0;32m     43\u001b[0m \u001b[38;5;28mprint\u001b[39m(\u001b[38;5;124m\"\u001b[39m\u001b[38;5;124mStopping threads...\u001b[39m\u001b[38;5;124m\"\u001b[39m)\n\u001b[0;32m     44\u001b[0m thread1\u001b[38;5;241m.\u001b[39mjoin(timeout\u001b[38;5;241m=\u001b[39m\u001b[38;5;241m1\u001b[39m)  \u001b[38;5;66;03m# Wait for thread1 to finish\u001b[39;00m\n\u001b[1;32m---> 45\u001b[0m thread2\u001b[38;5;241m.\u001b[39mjoin(timeout\u001b[38;5;241m=\u001b[39m\u001b[38;5;241m1\u001b[39m)  \u001b[38;5;66;03m# Wait for thread2 to finish\u001b[39;00m\n\u001b[0;32m     46\u001b[0m thread3\u001b[38;5;241m.\u001b[39mjoin(timeout\u001b[38;5;241m=\u001b[39m\u001b[38;5;241m1\u001b[39m)\n",
      "File \u001b[1;32mC:\\ProgramData\\anaconda3\\Lib\\threading.py:1151\u001b[0m, in \u001b[0;36mThread.join\u001b[1;34m(self, timeout)\u001b[0m\n\u001b[0;32m   1147\u001b[0m     \u001b[38;5;28mself\u001b[39m\u001b[38;5;241m.\u001b[39m_wait_for_tstate_lock()\n\u001b[0;32m   1148\u001b[0m \u001b[38;5;28;01melse\u001b[39;00m:\n\u001b[0;32m   1149\u001b[0m     \u001b[38;5;66;03m# the behavior of a negative timeout isn't documented, but\u001b[39;00m\n\u001b[0;32m   1150\u001b[0m     \u001b[38;5;66;03m# historically .join(timeout=x) for x<0 has acted as if timeout=0\u001b[39;00m\n\u001b[1;32m-> 1151\u001b[0m     \u001b[38;5;28mself\u001b[39m\u001b[38;5;241m.\u001b[39m_wait_for_tstate_lock(timeout\u001b[38;5;241m=\u001b[39m\u001b[38;5;28mmax\u001b[39m(timeout, \u001b[38;5;241m0\u001b[39m))\n",
      "File \u001b[1;32mC:\\ProgramData\\anaconda3\\Lib\\threading.py:1167\u001b[0m, in \u001b[0;36mThread._wait_for_tstate_lock\u001b[1;34m(self, block, timeout)\u001b[0m\n\u001b[0;32m   1164\u001b[0m     \u001b[38;5;28;01mreturn\u001b[39;00m\n\u001b[0;32m   1166\u001b[0m \u001b[38;5;28;01mtry\u001b[39;00m:\n\u001b[1;32m-> 1167\u001b[0m     \u001b[38;5;28;01mif\u001b[39;00m lock\u001b[38;5;241m.\u001b[39macquire(block, timeout):\n\u001b[0;32m   1168\u001b[0m         lock\u001b[38;5;241m.\u001b[39mrelease()\n\u001b[0;32m   1169\u001b[0m         \u001b[38;5;28mself\u001b[39m\u001b[38;5;241m.\u001b[39m_stop()\n",
      "\u001b[1;31mKeyboardInterrupt\u001b[0m: "
     ]
    },
    {
     "name": "stdout",
     "output_type": "stream",
     "text": [
      "Square of 84: 7056\n",
      "Cube of 49: 117649\n",
      "Square of 92: 8464\n",
      "Square of 12: 144\n",
      "Cube of 29: 24389\n",
      "Square of 84: 7056\n",
      "Square of 38: 1444\n",
      "Square of 14: 196\n",
      "Cube of 57: 185193\n",
      "Cube of 79: 493039\n",
      "Square of 70: 4900\n",
      "Cube of 45: 91125\n",
      "Square of 80: 6400\n",
      "Square of 48: 2304\n",
      "Cube of 63: 250047\n",
      "Cube of 69: 328509\n"
     ]
    }
   ],
   "source": [
    "#9\n",
    "import threading\n",
    "import random\n",
    "import time\n",
    "import queue\n",
    "\n",
    "# Function to generate random integer every 1 second\n",
    "def generate_random_numbers(q):\n",
    "    while True:\n",
    "        num = random.randint(1, 100)\n",
    "        q.put(num)\n",
    "        time.sleep(1)\n",
    "\n",
    "# Function for the second thread to compute square of even numbers\n",
    "def compute_square(q):\n",
    "    while True:\n",
    "        num = q.get()\n",
    "        if num % 2 == 0:\n",
    "            print(f\"Square of {num}: {num ** 2}\")\n",
    "        q.task_done()\n",
    "\n",
    "# Function for the third thread to print cube of odd numbers\n",
    "def print_cube(q):\n",
    "    while True:\n",
    "        num = q.get()\n",
    "        if num % 2 != 0:\n",
    "            print(f\"Cube of {num}: {num ** 3}\")\n",
    "        q.task_done()\n",
    "\n",
    "# Create a queue to share data between threads\n",
    "queue_data = queue.Queue()\n",
    "\n",
    "# Create and start the threads\n",
    "thread1 = threading.Thread(target=generate_random_numbers, args=(queue_data,))\n",
    "thread2 = threading.Thread(target=compute_square, args=(queue_data,))\n",
    "thread3 = threading.Thread(target=print_cube, args=(queue_data,))\n",
    "\n",
    "thread1.start()\n",
    "thread2.start()\n",
    "thread3.start()\n",
    "\n",
    "    # Stop the threads gracefully\n",
    "print(\"Stopping threads...\")\n",
    "thread1.join(timeout=1)  # Wait for thread1 to finish\n",
    "thread2.join(timeout=1)  # Wait for thread2 to finish\n",
    "thread3.join(timeout=1)  # Wait for thread3 to finish\n",
    "\n"
   ]
  },
  {
   "cell_type": "code",
   "execution_count": null,
   "id": "784b6f1f-dee4-4adf-bcab-2657c86fdd15",
   "metadata": {},
   "outputs": [
    {
     "name": "stdout",
     "output_type": "stream",
     "text": [
      "Farmer produced Cabbage\n",
      "Consumer 1 purchased Cabbage for $3\n",
      "Farmer produced PotatoConsumer 2 purchased Potato for $1\n",
      "\n",
      "Farmer produced CarrotConsumer 3 purchased Carrot for $1.5\n",
      "\n",
      "Farmer produced CarrotConsumer 4 purchased Carrot for $1.5\n",
      "\n",
      "Farmer produced CarrotConsumer 5 purchased Carrot for $1.5\n",
      "\n",
      "Farmer produced TomatoConsumer 1 purchased Tomato for $2\n",
      "\n",
      "Farmer produced CarrotConsumer 2 purchased Carrot for $1.5\n",
      "\n",
      "Farmer produced PotatoConsumer 3 purchased Potato for $1\n",
      "\n",
      "Farmer produced TomatoConsumer 4 purchased Tomato for $2\n",
      "\n",
      "Farmer produced TomatoConsumer 5 purchased Tomato for $2\n",
      "\n",
      "Farmer produced CabbageConsumer 1 purchased Cabbage for $3\n",
      "\n",
      "Farmer produced TomatoConsumer 2 purchased Tomato for $2\n",
      "\n",
      "Farmer produced CarrotConsumer 3 purchased Carrot for $1.5\n",
      "\n",
      "Farmer produced PotatoConsumer 4 purchased Potato for $1\n",
      "\n",
      "Farmer produced TomatoConsumer 5 purchased Tomato for $2\n",
      "\n",
      "Farmer produced PotatoConsumer 1 purchased Potato for $1\n",
      "\n",
      "Farmer produced CarrotConsumer 2 purchased Carrot for $1.5\n",
      "\n",
      "Farmer produced CabbageConsumer 3 purchased Cabbage for $3\n",
      "\n",
      "Farmer produced TomatoConsumer 4 purchased Tomato for $2\n",
      "\n",
      "Farmer produced CarrotConsumer 5 purchased Carrot for $1.5\n",
      "\n",
      "Farmer produced CarrotConsumer 1 purchased Carrot for $1.5\n",
      "\n",
      "Farmer produced PotatoConsumer 2 purchased Potato for $1\n",
      "\n",
      "Farmer produced TomatoConsumer 3 purchased Tomato for $2\n",
      "\n",
      "Farmer produced CarrotConsumer 4 purchased Carrot for $1.5\n",
      "\n",
      "Farmer produced PotatoConsumer 5 purchased Potato for $1\n",
      "\n",
      "Farmer produced PotatoConsumer 1 purchased Potato for $1\n",
      "\n",
      "Farmer produced CabbageConsumer 2 purchased Cabbage for $3\n",
      "\n",
      "Farmer produced TomatoConsumer 3 purchased Tomato for $2\n",
      "\n",
      "Farmer produced Carrot\n",
      "Consumer 4 purchased Carrot for $1.5\n",
      "Farmer produced PotatoConsumer 5 purchased Potato for $1\n",
      "\n",
      "Farmer produced CarrotConsumer 1 purchased Carrot for $1.5\n",
      "\n",
      "Farmer produced CabbageConsumer 2 purchased Cabbage for $3\n",
      "\n",
      "Farmer produced TomatoConsumer 3 purchased Tomato for $2\n",
      "\n",
      "Farmer produced CarrotConsumer 4 purchased Carrot for $1.5\n",
      "\n",
      "Farmer produced CarrotConsumer 5 purchased Carrot for $1.5\n",
      "\n",
      "Farmer produced CarrotConsumer 1 purchased Carrot for $1.5\n",
      "\n",
      "Farmer produced CabbageConsumer 2 purchased Cabbage for $3\n",
      "\n",
      "Farmer produced CabbageConsumer 3 purchased Cabbage for $3\n",
      "\n",
      "Farmer produced CarrotConsumer 4 purchased Carrot for $1.5\n",
      "\n",
      "Farmer produced CarrotConsumer 5 purchased Carrot for $1.5\n",
      "\n",
      "Farmer produced PotatoConsumer 1 purchased Potato for $1\n",
      "\n",
      "Farmer produced CabbageConsumer 2 purchased Cabbage for $3\n",
      "\n",
      "Farmer produced TomatoConsumer 3 purchased Tomato for $2\n",
      "\n",
      "Farmer produced PotatoConsumer 4 purchased Potato for $1\n",
      "\n",
      "Farmer produced CarrotConsumer 5 purchased Carrot for $1.5\n",
      "\n",
      "Farmer produced TomatoConsumer 1 purchased Tomato for $2\n",
      "\n",
      "Farmer produced CabbageConsumer 2 purchased Cabbage for $3\n",
      "\n",
      "Farmer produced Tomato\n",
      "Consumer 3 purchased Tomato for $2\n",
      "Farmer produced PotatoConsumer 4 purchased Potato for $1\n",
      "\n",
      "Farmer produced TomatoConsumer 5 purchased Tomato for $2\n",
      "\n",
      "Farmer produced Carrot\n",
      "Consumer 1 purchased Carrot for $1.5\n",
      "Farmer produced TomatoConsumer 2 purchased Tomato for $2\n",
      "\n",
      "Farmer produced CarrotConsumer 3 purchased Carrot for $1.5\n",
      "\n",
      "Farmer produced PotatoConsumer 4 purchased Potato for $1\n",
      "\n",
      "Farmer produced TomatoConsumer 5 purchased Tomato for $2\n",
      "\n",
      "Farmer produced TomatoConsumer 1 purchased Tomato for $2\n",
      "\n",
      "Farmer produced Carrot\n",
      "Consumer 2 purchased Carrot for $1.5\n",
      "Farmer produced TomatoConsumer 3 purchased Tomato for $2\n",
      "\n",
      "Farmer produced PotatoConsumer 4 purchased Potato for $1\n",
      "\n",
      "Farmer produced CarrotConsumer 5 purchased Carrot for $1.5\n",
      "\n",
      "Farmer produced CarrotConsumer 1 purchased Carrot for $1.5\n",
      "\n",
      "Farmer produced PotatoConsumer 2 purchased Potato for $1\n",
      "\n",
      "Farmer produced Tomato\n",
      "Consumer 3 purchased Tomato for $2\n",
      "Farmer produced PotatoConsumer 4 purchased Potato for $1\n",
      "\n",
      "Farmer produced CabbageConsumer 5 purchased Cabbage for $3\n",
      "\n",
      "Farmer produced CabbageConsumer 1 purchased Cabbage for $3\n",
      "\n",
      "Farmer produced PotatoConsumer 2 purchased Potato for $1\n",
      "\n",
      "Farmer produced TomatoConsumer 3 purchased Tomato for $2\n",
      "\n",
      "Farmer produced TomatoConsumer 4 purchased Tomato for $2\n",
      "\n",
      "Farmer produced CabbageConsumer 5 purchased Cabbage for $3\n",
      "\n",
      "Farmer produced TomatoConsumer 1 purchased Tomato for $2\n",
      "\n",
      "Farmer produced PotatoConsumer 2 purchased Potato for $1\n",
      "\n"
     ]
    }
   ],
   "source": [
    "#10\n",
    "import threading\n",
    "import time\n",
    "import random\n",
    "from queue import Queue\n",
    "\n",
    "class VegetableMarket:\n",
    "    def __init__(self, capacity):\n",
    "        self.capacity = capacity\n",
    "        self.market_queue = Queue(maxsize=capacity)\n",
    "        self.vegetables = [\"Tomato\", \"Potato\", \"Carrot\", \"Cabbage\"]\n",
    "        self.prices = {\"Tomato\": 2, \"Potato\": 1, \"Carrot\": 1.5, \"Cabbage\": 3}\n",
    "\n",
    "    def farmer_produce(self):\n",
    "        while True:\n",
    "            vegetable_type = random.choice(self.vegetables)\n",
    "            self.market_queue.put(vegetable_type)\n",
    "            print(f\"Farmer produced {vegetable_type}\")\n",
    "            time.sleep(random.uniform(0.5, 1))\n",
    "\n",
    "    def consumer_buy(self, name):\n",
    "        while True:\n",
    "            vegetable_type = random.choice(self.vegetables)\n",
    "            try:\n",
    "                purchased_vegetable = self.market_queue.get(timeout=5)\n",
    "                print(f\"{name} purchased {purchased_vegetable} for ${self.prices[purchased_vegetable]}\")\n",
    "                time.sleep(random.uniform(0.5, 1))\n",
    "            except Exception as e:\n",
    "                print(f\"{name} is waiting for {vegetable_type}\")\n",
    "\n",
    "market = VegetableMarket(capacity=10)\n",
    "farmer_thread = threading.Thread(target=market.farmer_produce)\n",
    "farmer_thread.start()\n",
    "\n",
    "consumer_threads = []\n",
    "for i in range(5):\n",
    "    consumer_thread = threading.Thread(target=market.consumer_buy, args=(f\"Consumer {i+1}\",))\n",
    "    consumer_threads.append(consumer_thread)\n",
    "    consumer_thread.start()\n",
    "\n",
    "farmer_thread.join()\n",
    "for consumer_thread in consumer_threads:\n",
    "    consumer_thread.join()\n",
    "\n"
   ]
  },
  {
   "cell_type": "code",
   "execution_count": null,
   "id": "213fdcc7-bea1-4685-a5c8-3b9100210863",
   "metadata": {},
   "outputs": [],
   "source": []
  },
  {
   "cell_type": "code",
   "execution_count": null,
   "id": "55f2f48c-ab78-4aad-b1a1-7a19674cefa3",
   "metadata": {},
   "outputs": [],
   "source": []
  }
 ],
 "metadata": {
  "kernelspec": {
   "display_name": "Python 3 (ipykernel)",
   "language": "python",
   "name": "python3"
  },
  "language_info": {
   "codemirror_mode": {
    "name": "ipython",
    "version": 3
   },
   "file_extension": ".py",
   "mimetype": "text/x-python",
   "name": "python",
   "nbconvert_exporter": "python",
   "pygments_lexer": "ipython3",
   "version": "3.12.4"
  }
 },
 "nbformat": 4,
 "nbformat_minor": 5
}
